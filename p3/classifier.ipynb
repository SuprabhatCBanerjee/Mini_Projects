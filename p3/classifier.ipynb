{
 "cells": [
  {
   "cell_type": "markdown",
   "id": "3dd0e0ab",
   "metadata": {},
   "source": [
    "<h5>Project Pipeline</h5>\n",
    "<li>Problem Definition : <strong>Diabetic Retinography</strong></li>\n",
    "<li>Data Collection : <strong>Taken from Kaggle</strong></li>\n",
    "<li>Data Annotation : <strong>Not Needed</strong></li>\n",
    "<li>Data Processing : <strong>crop/resize/normalize, splitting in train/test</strong></li>\n",
    "<li>Data Augmentation : <strong>rotate/flip/color</strong></li>\n",
    "<li>Model Training : <strong>CNN</strong></li>\n",
    "<li>Evalutaion : <strong>Accuracy, Precision, Recall, F1</strong></li>\n",
    "<li>Saving Model : <strong>Normal</strong></li>\n",
    "<li>API for Deployment : <strong>FastApi</strong></li>\n",
    "<li>Testing</li>\n",
    "\n"
   ]
  },
  {
   "cell_type": "code",
   "execution_count": 1,
   "id": "3868c008",
   "metadata": {},
   "outputs": [],
   "source": [
    "#importing all the required libraries\n",
    "import torch \n",
    "import torch.nn as nn\n",
    "import torch.optim as optim\n",
    "from torchvision import datasets, transforms\n",
    "from torch.utils.data import DataLoader, random_split\n",
    "import matplotlib.pyplot as plt\n",
    "import seaborn as sn\n",
    "import numpy as np\n",
    "from sklearn.metrics import classification_report, confusion_matrix"
   ]
  },
  {
   "cell_type": "code",
   "execution_count": 2,
   "id": "28a1ee39",
   "metadata": {},
   "outputs": [
    {
     "name": "stdout",
     "output_type": "stream",
     "text": [
      "Using device: cuda\n"
     ]
    }
   ],
   "source": [
    "#setting up device\n",
    "device = torch.device(\"cuda\" if torch.cuda.is_available() else \"cpu\")\n",
    "print(f'Using device: {device}')"
   ]
  },
  {
   "cell_type": "code",
   "execution_count": 3,
   "id": "c3585ed8",
   "metadata": {},
   "outputs": [],
   "source": [
    "#building the data transformation pipeline\n",
    "transform = transforms.Compose([\n",
    "    transforms.RandomHorizontalFlip(),\n",
    "    transforms.RandomRotation(10),\n",
    "    transforms.ColorJitter(brightness=0.2, contrast=0.2, saturation=0.2, hue=0.2),\n",
    "    transforms.Resize((224,224)),\n",
    "    transforms.ToTensor(),\n",
    "    transforms.Normalize((0.49),(0.49))\n",
    "])"
   ]
  },
  {
   "cell_type": "code",
   "execution_count": 4,
   "id": "6ce95620",
   "metadata": {},
   "outputs": [],
   "source": [
    "#Loading the dataset and applying transformations\n",
    "full_dataset = datasets.ImageFolder(root=\"dataset/train\", transform=transform)\n",
    "\n",
    "#splitting dataset in train - test\n",
    "train_size = int(0.7 * len(full_dataset))\n",
    "test_size = len(full_dataset) - train_size\n",
    "\n",
    "train_dataset, test_dataset = random_split(full_dataset, [train_size, test_size])\n",
    "\n",
    "#dataloader\n",
    "train_loader  = DataLoader(train_dataset, batch_size=32, shuffle=True)\n",
    "test_loader = DataLoader(test_dataset, batch_size=32, shuffle=False)"
   ]
  },
  {
   "cell_type": "code",
   "execution_count": 5,
   "id": "095131b1",
   "metadata": {},
   "outputs": [
    {
     "data": {
      "text/plain": [
       "['Healthy', 'Mild', 'Moderate', 'Proliferate', 'Severe']"
      ]
     },
     "execution_count": 5,
     "metadata": {},
     "output_type": "execute_result"
    }
   ],
   "source": [
    "def prev_img(img):\n",
    "    npimg = img.numpy()\n",
    "    plt.imshow(np.transpose(npimg, (1, 2, 0)))\n",
    "    plt.axis('off')\n",
    "    plt.show() \n",
    "\n",
    "full_dataset.classes"
   ]
  },
  {
   "cell_type": "code",
   "execution_count": 6,
   "id": "9a9331f0",
   "metadata": {},
   "outputs": [],
   "source": [
    "#implementing CNN \n",
    "\n",
    "class RetinographyNN(nn.Module):\n",
    "    def __init__(self, num_classes):\n",
    "        super().__init__()\n",
    "        self.features = nn.Sequential(\n",
    "            nn.Conv2d(3, out_channels=32, kernel_size=3, padding=1),\n",
    "            nn.ReLU(),\n",
    "            nn.BatchNorm2d(32),\n",
    "            nn.MaxPool2d(kernel_size=2,stride=2),\n",
    "\n",
    "            nn.Conv2d(in_channels=32, out_channels=64, kernel_size=3, padding=1),\n",
    "            nn.ReLU(),\n",
    "            nn.BatchNorm2d(64),\n",
    "            nn.MaxPool2d(kernel_size=2, stride=2),\n",
    "\n",
    "            nn.Conv2d(in_channels=64, out_channels=128, kernel_size=3, padding=1),\n",
    "            nn.ReLU(),\n",
    "            nn.BatchNorm2d(128),\n",
    "            nn.MaxPool2d(kernel_size=2, stride=2)\n",
    "        )\n",
    "        #224->112->56->28 due to pulling layer, \n",
    "        #128 filter from Conv2d\n",
    "        self.classifier = nn.Sequential(\n",
    "            nn.Flatten(),\n",
    "\n",
    "            #input layer\n",
    "            nn.Linear(128*28*28, 256),\n",
    "            nn.ReLU(),\n",
    "            nn.Dropout(p=0.3),\n",
    "\n",
    "            #hidden layer\n",
    "            nn.Linear(256,128),\n",
    "            nn.ReLU(),\n",
    "            nn.Dropout(p=0.3),\n",
    "\n",
    "            #hidden layer\n",
    "            nn.Linear(128,64),\n",
    "            nn.ReLU(),\n",
    "            nn.Dropout(p=0.2),\n",
    "\n",
    "            #output layer\n",
    "            nn.Linear(64,num_classes)            \n",
    "        )\n",
    "\n",
    "        \n",
    "    def forward(self,x):\n",
    "        x = self.features(x)\n",
    "        x = self.classifier(x)\n",
    "        return x"
   ]
  },
  {
   "cell_type": "code",
   "execution_count": 7,
   "id": "38546ad6",
   "metadata": {},
   "outputs": [
    {
     "name": "stdout",
     "output_type": "stream",
     "text": [
      "Epoch : 0, Loss : 1.3538787419145757\n",
      "Epoch : 1, Loss : 1.2256080088290302\n",
      "Epoch : 2, Loss : 1.1881252324039286\n",
      "Epoch : 3, Loss : 1.154372900724411\n",
      "Epoch : 4, Loss : 1.1298629993742162\n"
     ]
    }
   ],
   "source": [
    "#training loop\n",
    "model = RetinographyNN(5)\n",
    "model.to(device)\n",
    "\n",
    "criterion = nn.CrossEntropyLoss()\n",
    "optimizer = optim.SGD(model.parameters(), lr=0.01, momentum=0.6)\n",
    "\n",
    "epochs = 5\n",
    "\n",
    "for epoch in range(epochs):\n",
    "    model.train()\n",
    "\n",
    "    train_loss = 0.0\n",
    "\n",
    "    for images, labels in train_loader:\n",
    "        images, labels = images.to(device), labels.to(device)\n",
    "\n",
    "        #forward pass\n",
    "        outputs = model(images)\n",
    "\n",
    "        #loss calc\n",
    "        loss = criterion(outputs, labels)\n",
    "\n",
    "        #grad clear\n",
    "        optimizer.zero_grad()\n",
    "\n",
    "        #backward pass\n",
    "        loss.backward()\n",
    "\n",
    "        #update grad\n",
    "        optimizer.step()\n",
    "\n",
    "        #loss tracking\n",
    "        train_loss += loss.item()\n",
    "\n",
    "    avg_loss = train_loss / len(train_loader)\n",
    "    print(f\"Epoch : {epoch}, Loss : {avg_loss}\")\n",
    "    torch.cuda.empty_cache()"
   ]
  },
  {
   "cell_type": "code",
   "execution_count": 71,
   "id": "43a7a53c",
   "metadata": {},
   "outputs": [],
   "source": [
    "torch.cuda.empty_cache()"
   ]
  },
  {
   "cell_type": "code",
   "execution_count": 8,
   "id": "f7501bd6",
   "metadata": {},
   "outputs": [
    {
     "name": "stdout",
     "output_type": "stream",
     "text": [
      "Accuracy : 0.5704697986577181\n"
     ]
    }
   ],
   "source": [
    "#Evaluation\n",
    "model.eval()\n",
    "\n",
    "total = 0\n",
    "correct = 0\n",
    "\n",
    "all_preds = []\n",
    "all_labels = []\n",
    "\n",
    "with torch.no_grad():\n",
    "    for images, labels in test_loader:\n",
    "        images, labels = images.to(device), labels.to(device)\n",
    "\n",
    "        outputs = model(images)\n",
    "\n",
    "        _, predicted = torch.max(outputs, 1)\n",
    "\n",
    "        all_preds.extend(predicted.cpu().numpy())\n",
    "        all_labels.extend(labels.cpu().numpy())\n",
    "\n",
    "        total = total + labels.shape[0]\n",
    "        correct = correct + (predicted == labels).sum().item()\n",
    "    \n",
    "    print(f\"Accuracy : {correct/total}\")\n"
   ]
  },
  {
   "cell_type": "code",
   "execution_count": 84,
   "id": "48da9928",
   "metadata": {},
   "outputs": [
    {
     "name": "stdout",
     "output_type": "stream",
     "text": [
      "Classification Report :-\n",
      "              precision    recall  f1-score   support\n",
      "\n",
      "           0       0.85      0.94      0.89       167\n",
      "           1       0.59      0.45      0.51       106\n",
      "           2       0.44      0.82      0.57       171\n",
      "           3       0.00      0.00      0.00        87\n",
      "           4       0.69      0.14      0.23        65\n",
      "\n",
      "    accuracy                           0.59       596\n",
      "   macro avg       0.52      0.47      0.44       596\n",
      "weighted avg       0.55      0.59      0.53       596\n",
      "\n"
     ]
    },
    {
     "name": "stderr",
     "output_type": "stream",
     "text": [
      "c:\\python311\\Lib\\site-packages\\sklearn\\metrics\\_classification.py:1565: UndefinedMetricWarning: Precision is ill-defined and being set to 0.0 in labels with no predicted samples. Use `zero_division` parameter to control this behavior.\n",
      "  _warn_prf(average, modifier, f\"{metric.capitalize()} is\", len(result))\n",
      "c:\\python311\\Lib\\site-packages\\sklearn\\metrics\\_classification.py:1565: UndefinedMetricWarning: Precision is ill-defined and being set to 0.0 in labels with no predicted samples. Use `zero_division` parameter to control this behavior.\n",
      "  _warn_prf(average, modifier, f\"{metric.capitalize()} is\", len(result))\n",
      "c:\\python311\\Lib\\site-packages\\sklearn\\metrics\\_classification.py:1565: UndefinedMetricWarning: Precision is ill-defined and being set to 0.0 in labels with no predicted samples. Use `zero_division` parameter to control this behavior.\n",
      "  _warn_prf(average, modifier, f\"{metric.capitalize()} is\", len(result))\n"
     ]
    }
   ],
   "source": [
    "#classification report\n",
    "y_true = np.array(all_labels)\n",
    "y_pred = np.array(all_preds)\n",
    "\n",
    "print(\"Classification Report :-\")\n",
    "print(classification_report(y_true, y_pred))"
   ]
  },
  {
   "cell_type": "code",
   "execution_count": 85,
   "id": "8d3aa014",
   "metadata": {},
   "outputs": [
    {
     "data": {
      "image/png": "[encoded data removed]",
      "text/plain": [
       "<Figure size 1000x800 with 2 Axes>"
      ]
     },
     "metadata": {},
     "output_type": "display_data"
    }
   ],
   "source": [
    "#confusion matrix\n",
    "cm = confusion_matrix(y_true, y_pred)\n",
    "\n",
    "plt.figure(figsize=(10,8))\n",
    "sn.heatmap(cm, annot=True)\n",
    "plt.xlabel(\"Predicted\")\n",
    "plt.ylabel(\"True\")\n",
    "plt.title(\"Retinography\")\n",
    "plt.show()"
   ]
  },
  {
   "cell_type": "code",
   "execution_count": 9,
   "id": "9aa89dd4",
   "metadata": {},
   "outputs": [],
   "source": [
    "#saving the normal model\n",
    "torch.save(model.state_dict(), \"normal_retinography_cnn_model.pth\")"
   ]
  }
 ],
 "metadata": {
  "kernelspec": {
   "display_name": "Python 3",
   "language": "python",
   "name": "python3"
  },
  "language_info": {
   "codemirror_mode": {
    "name": "ipython",
    "version": 3
   },
   "file_extension": ".py",
   "mimetype": "text/x-python",
   "name": "python",
   "nbconvert_exporter": "python",
   "pygments_lexer": "ipython3",
   "version": "3.11.9"
  }
 },
 "nbformat": 4,
 "nbformat_minor": 5
}
