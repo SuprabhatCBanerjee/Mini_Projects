{
 "cells": [
  {
   "cell_type": "markdown",
   "id": "3dd0e0ab",
   "metadata": {},
   "source": [
    "<h5>Project Pipeline</h5>\n",
    "<li>Problem Definition : <strong>Diabetic Retinography</strong></li>\n",
    "<li>Data Collection : <strong>Taken from Kaggle</strong></li>\n",
    "<li>Data Annotation : <strong>Not Needed</strong></li>\n",
    "<li>Data Processing : <strong>crop/resize/normalize, splitting in train/test</strong></li>\n",
    "<li>Data Augmentation : <strong>rotate/flip/color</strong></li>\n",
    "<li>Model Training : <strong>CNN</strong></li>\n",
    "<li>Evalutaion : <strong>Accuracy, Precision, Recall, F1</strong></li>\n",
    "<li>Saving Model : <strong>Normal</strong></li>\n",
    "<li>API for Deployment : <strong>FastApi</strong></li>\n",
    "<li>Testing</li>\n",
    "\n"
   ]
  },
  {
   "cell_type": "code",
   "execution_count": null,
   "id": "3868c008",
   "metadata": {},
   "outputs": [],
   "source": [
    "#importing all the required libraries\n",
    "import torch \n",
    "import torch.nn as nn\n",
    "import torch.optim as optim\n",
    "from torchvision import datasets, transforms\n",
    "from torch.utils.data import DataLoader, random_split\n",
    "import matplotlib.pyplot as plt\n",
    "import seaborn as sn\n",
    "import numpy as np\n",
    "from sklearn.metrics import classification_report, confusion_matrix"
   ]
  },
  {
   "cell_type": "code",
   "execution_count": 47,
   "id": "28a1ee39",
   "metadata": {},
   "outputs": [
    {
     "name": "stdout",
     "output_type": "stream",
     "text": [
      "Using device: cuda\n"
     ]
    }
   ],
   "source": [
    "#setting up device\n",
    "device = torch.device(\"cuda\" if torch.cuda.is_available() else \"cpu\")\n",
    "print(f'Using device: {device}')"
   ]
  },
  {
   "cell_type": "code",
   "execution_count": 48,
   "id": "c3585ed8",
   "metadata": {},
   "outputs": [],
   "source": [
    "#building the data transformation pipeline\n",
    "transform = transforms.Compose([\n",
    "    transforms.RandomHorizontalFlip(),\n",
    "    transforms.RandomRotation(10),\n",
    "    transforms.ColorJitter(brightness=0.2, contrast=0.2, saturation=0.2, hue=0.2),\n",
    "    transforms.Resize((128,128)),\n",
    "    transforms.ToTensor(),\n",
    "    transforms.Normalize((0.48),(0.45))\n",
    "])"
   ]
  },
  {
   "cell_type": "code",
   "execution_count": 49,
   "id": "6ce95620",
   "metadata": {},
   "outputs": [],
   "source": [
    "#Loading the dataset and applying transformations\n",
    "full_dataset = datasets.ImageFolder(root=\"dataset/train\", transform=transform)\n",
    "\n",
    "#splitting dataset in train - test\n",
    "train_size = int(0.7 * len(full_dataset))\n",
    "test_size = len(full_dataset) - train_size\n",
    "\n",
    "train_dataset, test_dataset = random_split(full_dataset, [train_size, test_size])\n",
    "\n",
    "#dataloader\n",
    "train_loader  = DataLoader(train_dataset, batch_size=32, shuffle=True)\n",
    "test_loader = DataLoader(test_dataset, batch_size=32, shuffle=False)"
   ]
  },
  {
   "cell_type": "code",
   "execution_count": 79,
   "id": "9a9331f0",
   "metadata": {},
   "outputs": [],
   "source": [
    "#implementing CNN \n",
    "\n",
    "class RetinographyNN(nn.Module):\n",
    "    def __init__(self, num_classes):\n",
    "        super().__init__()\n",
    "        self.features = nn.Sequential(\n",
    "            nn.Conv2d(num_classes, out_channels=32, kernel_size=3, padding=1),\n",
    "            nn.ReLU(),\n",
    "            nn.BatchNorm2d(32),\n",
    "            nn.MaxPool2d(kernel_size=2,stride=2),\n",
    "\n",
    "            nn.Conv2d(in_channels=32, out_channels=64, kernel_size=3, padding=1),\n",
    "            nn.ReLU(),\n",
    "            nn.BatchNorm2d(64),\n",
    "            nn.MaxPool2d(kernel_size=2, stride=2),\n",
    "\n",
    "            nn.Conv2d(in_channels=64, out_channels=128, kernel_size=3, padding=1),\n",
    "            nn.ReLU(),\n",
    "            nn.BatchNorm2d(128),\n",
    "            nn.MaxPool2d(kernel_size=2, stride=2)\n",
    "        )\n",
    "        #128->64->32->16 due to pulling layer, \n",
    "        #128 filter from Conv2d\n",
    "        self.classifier = nn.Sequential(\n",
    "            nn.Flatten(),\n",
    "\n",
    "            #input layer\n",
    "            nn.Linear(128*16*16, 256),\n",
    "            nn.ReLU(),\n",
    "            nn.Dropout(p=0.3),\n",
    "\n",
    "            #hidden layer\n",
    "            nn.Linear(256,128),\n",
    "            nn.ReLU(),\n",
    "            nn.Dropout(p=0.4),\n",
    "\n",
    "            #hidden layer\n",
    "            nn.Linear(128,64),\n",
    "            nn.ReLU(),\n",
    "            nn.Dropout(p=0.4),\n",
    "\n",
    "            #output layer\n",
    "            nn.Linear(64,5)            \n",
    "        )\n",
    "\n",
    "        self.quant = QuantStub()\n",
    "        self.dequant = DeQuantStub()\n",
    "\n",
    "    def forward(self,x):\n",
    "        x = self.features(x)\n",
    "        x = self.classifier(x)\n",
    "        return x"
   ]
  },
  {
   "cell_type": "code",
   "execution_count": 58,
   "id": "38546ad6",
   "metadata": {},
   "outputs": [
    {
     "name": "stdout",
     "output_type": "stream",
     "text": [
      "Epoch : 0, Loss : 1.4884189448573373\n",
      "Epoch : 1, Loss : 1.350165922533382\n",
      "Epoch : 2, Loss : 1.3087598464705728\n",
      "Epoch : 3, Loss : 1.2748335640538822\n",
      "Epoch : 4, Loss : 1.2427896681157025\n",
      "Epoch : 5, Loss : 1.238926040855321\n",
      "Epoch : 6, Loss : 1.233101805502718\n",
      "Epoch : 7, Loss : 1.2110492424531416\n",
      "Epoch : 8, Loss : 1.1809037002650173\n",
      "Epoch : 9, Loss : 1.1917946176095442\n",
      "Epoch : 10, Loss : 1.1677110940217972\n",
      "Epoch : 11, Loss : 1.1512950618158688\n",
      "Epoch : 12, Loss : 1.1559605679728768\n",
      "Epoch : 13, Loss : 1.1726359860463575\n",
      "Epoch : 14, Loss : 1.117669696157629\n",
      "Epoch : 15, Loss : 1.1224834336475893\n",
      "Epoch : 16, Loss : 1.1055650453675876\n",
      "Epoch : 17, Loss : 1.1147377477450804\n",
      "Epoch : 18, Loss : 1.1164014542644674\n",
      "Epoch : 19, Loss : 1.0899028778076172\n",
      "Epoch : 20, Loss : 1.0877990411086516\n",
      "Epoch : 21, Loss : 1.082173858176578\n",
      "Epoch : 22, Loss : 1.0616656081242994\n",
      "Epoch : 23, Loss : 1.0729915093291889\n",
      "Epoch : 24, Loss : 1.0502071556719867\n",
      "Epoch : 25, Loss : 1.0389788814566352\n",
      "Epoch : 26, Loss : 1.0486961643804202\n",
      "Epoch : 27, Loss : 1.0497361015189777\n",
      "Epoch : 28, Loss : 1.0206495428627187\n",
      "Epoch : 29, Loss : 1.0295309126377106\n",
      "Epoch : 30, Loss : 1.0183361565524882\n",
      "Epoch : 31, Loss : 1.0273613225330005\n",
      "Epoch : 32, Loss : 1.0268176265738227\n",
      "Epoch : 33, Loss : 1.0018154870380054\n",
      "Epoch : 34, Loss : 0.9912117286161943\n",
      "Epoch : 35, Loss : 0.9944192482666536\n",
      "Epoch : 36, Loss : 0.9883867569945075\n",
      "Epoch : 37, Loss : 0.9667298495769501\n",
      "Epoch : 38, Loss : 0.9679402126507326\n",
      "Epoch : 39, Loss : 0.9665776965293017\n",
      "Epoch : 40, Loss : 0.9518425329165026\n",
      "Epoch : 41, Loss : 0.9305205304514278\n",
      "Epoch : 42, Loss : 0.9241029159589247\n",
      "Epoch : 43, Loss : 0.9290063855322924\n",
      "Epoch : 44, Loss : 0.9572642757134004\n",
      "Epoch : 45, Loss : 0.9158531657674096\n",
      "Epoch : 46, Loss : 0.916048679839481\n",
      "Epoch : 47, Loss : 0.8960293978452682\n",
      "Epoch : 48, Loss : 0.9074458899823102\n",
      "Epoch : 49, Loss : 0.9023508727550507\n"
     ]
    }
   ],
   "source": [
    "#training loop\n",
    "model = RetinographyNN(3)\n",
    "model.to(device)\n",
    "\n",
    "criterion = nn.CrossEntropyLoss()\n",
    "optimizer = optim.Adam(model.parameters(), lr=0.0001)\n",
    "\n",
    "epochs = 50\n",
    "\n",
    "for epoch in range(epochs):\n",
    "    model.train()\n",
    "\n",
    "    train_loss = 0.0\n",
    "\n",
    "    for images, labels in train_loader:\n",
    "        images, labels = images.to(device), labels.to(device)\n",
    "\n",
    "        #forward pass\n",
    "        outputs = model(images)\n",
    "\n",
    "        #loss calc\n",
    "        loss = criterion(outputs, labels)\n",
    "\n",
    "        #grad clear\n",
    "        optimizer.zero_grad()\n",
    "\n",
    "        #backward pass\n",
    "        loss.backward()\n",
    "\n",
    "        #update grad\n",
    "        optimizer.step()\n",
    "\n",
    "        #loss tracking\n",
    "        train_loss += loss.item()\n",
    "\n",
    "    avg_loss = train_loss / len(train_loader)\n",
    "    print(f\"Epoch : {epoch}, Loss : {avg_loss}\")\n",
    "    torch.cuda.empty_cache()"
   ]
  },
  {
   "cell_type": "code",
   "execution_count": 59,
   "id": "f7501bd6",
   "metadata": {},
   "outputs": [
    {
     "name": "stdout",
     "output_type": "stream",
     "text": [
      "Accuracy : 0.6057046979865772\n"
     ]
    }
   ],
   "source": [
    "#Evaluation\n",
    "model.eval()\n",
    "\n",
    "total = 0\n",
    "correct = 0\n",
    "\n",
    "all_preds = []\n",
    "all_labels = []\n",
    "\n",
    "with torch.no_grad():\n",
    "    for images, labels in test_loader:\n",
    "        images, labels = images.to(device), labels.to(device)\n",
    "\n",
    "        outputs = model(images)\n",
    "\n",
    "        _, predicted = torch.max(outputs, 1)\n",
    "\n",
    "        all_preds.extend(predicted.cpu().numpy())\n",
    "        all_labels.extend(labels.cpu().numpy())\n",
    "\n",
    "        total = total + labels.shape[0]\n",
    "        correct = correct + (predicted == labels).sum().item()\n",
    "    \n",
    "    print(f\"Accuracy : {correct/total}\")\n"
   ]
  },
  {
   "cell_type": "code",
   "execution_count": 60,
   "id": "48da9928",
   "metadata": {},
   "outputs": [
    {
     "name": "stdout",
     "output_type": "stream",
     "text": [
      "Classification Report :-\n",
      "              precision    recall  f1-score   support\n",
      "\n",
      "           0       0.88      0.95      0.91       175\n",
      "           1       0.42      0.53      0.47        88\n",
      "           2       0.53      0.68      0.59       192\n",
      "           3       0.33      0.06      0.10        88\n",
      "           4       0.39      0.25      0.30        53\n",
      "\n",
      "    accuracy                           0.61       596\n",
      "   macro avg       0.51      0.49      0.47       596\n",
      "weighted avg       0.57      0.61      0.57       596\n",
      "\n"
     ]
    }
   ],
   "source": [
    "#classification report\n",
    "y_true = np.array(all_labels)\n",
    "y_pred = np.array(all_preds)\n",
    "\n",
    "print(\"Classification Report :-\")\n",
    "print(classification_report(y_true, y_pred))"
   ]
  },
  {
   "cell_type": "code",
   "execution_count": 61,
   "id": "8d3aa014",
   "metadata": {},
   "outputs": [
    {
     "data": {
      "image/png": "[encoded data removed]",
      "text/plain": [
       "<Figure size 1000x800 with 2 Axes>"
      ]
     },
     "metadata": {},
     "output_type": "display_data"
    }
   ],
   "source": [
    "#confusion matrix\n",
    "cm = confusion_matrix(y_true, y_pred)\n",
    "\n",
    "plt.figure(figsize=(10,8))\n",
    "sn.heatmap(cm, annot=True)\n",
    "plt.xlabel(\"Predicted\")\n",
    "plt.ylabel(\"True\")\n",
    "plt.title(\"Retinography\")\n",
    "plt.show()"
   ]
  },
  {
   "cell_type": "code",
   "execution_count": null,
   "id": "9aa89dd4",
   "metadata": {},
   "outputs": [],
   "source": [
    "#saving the normal model\n",
    "#torch.save(model.state_dict(), \"normal_retinography_cnn_model.pth\")"
   ]
  }
 ],
 "metadata": {
  "kernelspec": {
   "display_name": "Python 3",
   "language": "python",
   "name": "python3"
  },
  "language_info": {
   "codemirror_mode": {
    "name": "ipython",
    "version": 3
   },
   "file_extension": ".py",
   "mimetype": "text/x-python",
   "name": "python",
   "nbconvert_exporter": "python",
   "pygments_lexer": "ipython3",
   "version": "3.11.9"
  }
 },
 "nbformat": 4,
 "nbformat_minor": 5
}
